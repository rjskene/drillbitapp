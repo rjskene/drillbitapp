{
 "cells": [
  {
   "cell_type": "markdown",
   "id": "77e97f02",
   "metadata": {},
   "source": [
    "To DO\n",
    "\n",
    "+ ~~change landing page~~\n",
    "+ ~~DONE add loading options to simulation; must explore useAsyncQueue NOPE (AsyncQueue too different from AsyncState)~~\n",
    "+ ~~DONE add table; use icons for table segments; need to have column groups~~\n",
    "+ ~~DONE!   need to add charts~~\n",
    "\n",
    "+ ~~localstorage for chart values~~\n",
    "+ ~~add env statement~~\n",
    "+ ~~improve Chart aesthetics~~\n",
    "    ~~+ window or tiles or windows with tiles~~\n",
    "    ~~+ stack legend~~\n",
    "    ~~+ use theme-related colors~~\n",
    "    ~~+ pass appropriate x- and y-label values~~\n",
    "+ ~~standardize container sizes and alignments\n",
    "+ improve aesthetics of environment section\n",
    "    + ~~improve chart layout~~\n",
    "    + improve summary layout\n",
    "+ ~~improve Table aesthetics~~\n",
    "    + ~~add units for rows in Summary~~\n",
    "+ ~~use Celery and Redis for async tasks to save monthly / quarterly / annual versions of statements~~\n",
    "+ ~~added celery autoreload\n",
    "+ ~~MAKE NOTE THAT CHARTS ARE MONTHLY!!!!~~\n",
    "+ ~~check all math~~\n",
    "    + ~~why is block schedule wrong?~~\n",
    "        + ~~had placeholder for current block~\n",
    "    + ~~number of miners???~~\n",
    "    + ~~cost of miners~~\n",
    "    + ~~Why do roi and istat not overlap in terms of number of periods??????~~\n",
    "    + no pool fees?\n",
    "+ ~~check if statement object exist, if so, get monthly and summary only; should be much faster~~\n",
    "+ ~~add current BTC environment modal~~\n",
    "    + ~~feed-in live environment to enviroment assumptions~~\n",
    "+ ~~no scaling done for Heat rejection products????~~\n",
    "+ enviro aesthetics\n",
    "    + transaction fees y-axis range needs fixing\n",
    "    + enviro select load ... no user feedback\n",
    "+ additional metrics:\n",
    "    + compare to BTC HODL strategy\n",
    "    + percentage revenue from appreciation vs. fees\n",
    "+ price updates for miners\n",
    "+ add Bitcoin mining demo\n",
    "+ hash share should be percentage of actual hash rate, not difficult\n",
    "+ ProjectSim CRUD at point of sale ... need to clean up combobox interaction\n",
    "+ allow manual scaling and pricing of products\n",
    "+ need to add curtailment / switching on-off of miners\n",
    "+ add temperature impacts / need to feed in variable chip temp\n",
    "+ time unit not working as expected\n",
    "+ improve infra product database\n",
    "+ improve infra section and remove errors\n",
    "+ push M/Q/A statement creation INTO the serializer so that finstat resample can be used; how to get task_ids ?????\n",
    "+ need full statements and charts for each project\n",
    "+ need better atomicity of database transactions\n",
    "+ push live to google\n",
    "+ testing for drillbit\n",
    "+ testing for drillbit-vj\n",
    "+ testing for drillbit-dj\n",
    "+ updates to finstat"
   ]
  },
  {
   "cell_type": "code",
   "execution_count": 5,
   "id": "b093c977",
   "metadata": {
    "scrolled": true
   },
   "outputs": [
    {
     "name": "stdout",
     "output_type": "stream",
     "text": [
      "The autoreload extension is already loaded. To reload it, use:\n",
      "  %reload_ext autoreload\n"
     ]
    }
   ],
   "source": [
    "%load_ext autoreload\n",
    "%autoreload 2"
   ]
  },
  {
   "cell_type": "code",
   "execution_count": 6,
   "id": "ba6c1142",
   "metadata": {},
   "outputs": [
    {
     "name": "stdout",
     "output_type": "stream",
     "text": [
      "updating meta...done\n"
     ]
    }
   ],
   "source": [
    "import os\n",
    "import django\n",
    "os.environ.setdefault('DJANGO_SETTINGS_MODULE', 'drillbit_dj.settings')\n",
    "os.environ[\"DJANGO_ALLOW_ASYNC_UNSAFE\"] = \"true\"\n",
    "django.setup()"
   ]
  },
  {
   "cell_type": "code",
   "execution_count": 7,
   "id": "e888e330",
   "metadata": {},
   "outputs": [],
   "source": [
    "import numpy as np\n",
    "import pandas as pd"
   ]
  },
  {
   "cell_type": "code",
   "execution_count": 8,
   "id": "734a2612",
   "metadata": {},
   "outputs": [],
   "source": [
    "from drillbit import BitcoinEnvironmentUtility\n",
    "from drillbit.__new_objects import Rig as RigManager, Product as ProductManager, \\\n",
    "    Cooling as CoolingManager, Project as ProjectManager, \\\n",
    "    OverClock, RigOperator\n",
    "from drillbit.__new_units__ import AbstractBaseUnit, MagnitudeTable, Hashes, HashRate, \\\n",
    "    Time, Power, Energy, Efficiency, EnergyPrice\n",
    "\n",
    "\n",
    "from environment.serializers import EnvironmentSerializer as EnviroSer, BlockScheduleSerializer as BSchedSer, \\\n",
    "    BitcoinPriceSerializer as BPSer, TransactionFeesSerializer as FeeSer, HashRateSerializer as HRSer\n",
    "from environment.models import Environment, BlockSchedule, BitcoinPrice, TransactionFees\n",
    "\n",
    "from products.models import Rig, Cooling, HeatRejection, Electrical, RejectionCurve\n",
    "from products.serializers import RigSerializer, CoolingSerializer, HeatRejectionSerializer, \\\n",
    "    ElectricalSerializer, RejectionCurveForProductSerializer as CurveSerializer\n",
    "\n",
    "from projects.models import RigForProject, InfraForProject, Project, Projects, \\\n",
    "    ProjectStatement, ProjectSimulation, ProjectStatementSummary\n",
    "from projects.serializers import RigForProjectSerializer, InfraForProjectSerializer, ProjectSerializer, ProjectsSerializer, \\\n",
    "    ProjectScalingSerializer, ProjectCostsSerializer, ProjectStatementSerializer, \\\n",
    "    ProjectStatementSummarySerializer\n",
    "\n",
    "from projects.tasks import create_statements_for_given_project, create_statement_for_given_frequency"
   ]
  },
  {
   "cell_type": "code",
   "execution_count": 394,
   "id": "a21a9616",
   "metadata": {},
   "outputs": [],
   "source": [
    "import numpy as np\n",
    "from tqdm import tqdm, trange\n",
    "import pandas as pd\n",
    "import numpy_financial as npf\n",
    "\n",
    "import finstat as fs\n",
    "\n",
    "from drillbit.statements.funcs import total_energy, win_percentage, \\\n",
    "    expected_difficulty, hashes_to_hash_rate, win_percentage\n",
    "\n",
    "from products.models import WeatherStation, WeatherData\n",
    "from products.serializers import expected_loss_from_insufficient_cooling_capacity"
   ]
  },
  {
   "cell_type": "code",
   "execution_count": 10,
   "id": "b08a431c",
   "metadata": {},
   "outputs": [],
   "source": [
    "from drillbit.statements.statements import init_environment, ProjectTemplate, ROITemplate, \\\n",
    "    analysis"
   ]
  },
  {
   "cell_type": "code",
   "execution_count": 519,
   "id": "66f66d77",
   "metadata": {},
   "outputs": [],
   "source": [
    "projs = Projects.objects.latest('created_at')"
   ]
  },
  {
   "cell_type": "code",
   "execution_count": 522,
   "id": "4583ab25",
   "metadata": {},
   "outputs": [],
   "source": [
    "sims = ProjectSimulation.objects.filter(project__in=projs.projects.all())"
   ]
  },
  {
   "cell_type": "code",
   "execution_count": 527,
   "id": "d80c0492",
   "metadata": {},
   "outputs": [
    {
     "data": {
      "text/plain": [
       "(4, {'projects.ProjectSimulation': 4})"
      ]
     },
     "execution_count": 527,
     "metadata": {},
     "output_type": "execute_result"
    }
   ],
   "source": [
    "sims.delete()"
   ]
  },
  {
   "cell_type": "code",
   "execution_count": 526,
   "id": "628636c5",
   "metadata": {},
   "outputs": [
    {
     "data": {
      "text/plain": [
       "(16, {'projects.ProjectStatement': 16})"
      ]
     },
     "execution_count": 526,
     "metadata": {},
     "output_type": "execute_result"
    }
   ],
   "source": [
    "ProjectStatement.objects.filter(sim__in=sims).delete()"
   ]
  },
  {
   "cell_type": "code",
   "execution_count": 525,
   "id": "29312183",
   "metadata": {},
   "outputs": [
    {
     "data": {
      "text/plain": [
       "(4, {'projects.ProjectStatementSummary': 4})"
      ]
     },
     "execution_count": 525,
     "metadata": {},
     "output_type": "execute_result"
    }
   ],
   "source": [
    "ProjectStatementSummary.objects.filter(sim__in=sims).delete()"
   ]
  },
  {
   "cell_type": "code",
   "execution_count": 11,
   "id": "04674033",
   "metadata": {},
   "outputs": [
    {
     "name": "stdout",
     "output_type": "stream",
     "text": [
      "updating meta...done\n"
     ]
    }
   ],
   "source": [
    "btc = BitcoinEnvironmentUtility()\n",
    "environment = Environment.objects.latest('created_at')\n",
    "project = Project.objects.latest('created_at')"
   ]
  },
  {
   "cell_type": "code",
   "execution_count": 468,
   "id": "f7ec50eb",
   "metadata": {},
   "outputs": [],
   "source": [
    "price = btc.current_price\n",
    "price = 24000\n",
    "capacity = 50e6\n",
    "reward = btc.current_reward\n",
    "difficulty = btc.difficulty\n",
    "station = WeatherStation.objects.get(location__contains='Pecos')\n",
    "rig = Rig.objects.get(make='Antminer', model='S19', generation='jPro')\n",
    "rejection = HeatRejection.objects.get(design_dry_bulb=95)"
   ]
  },
  {
   "cell_type": "code",
   "execution_count": 469,
   "id": "a6256bd5",
   "metadata": {},
   "outputs": [],
   "source": [
    "datas = []\n",
    "for rejection in HeatRejection.objects.all():\n",
    "    n_coolers = capacity / rejection.capacity\n",
    "    cost_of_coolers = n_coolers * rejection.price\n",
    "    expected_loss = expected_loss_from_insufficient_cooling_capacity(\n",
    "        reward, difficulty,\n",
    "        station, rig, rejection,\n",
    "        n_coolers\n",
    "    )\n",
    "    data = {\n",
    "        'design_dry_bulb': rejection.design_dry_bulb,\n",
    "        'cost_of_coolers': cost_of_coolers,\n",
    "        'expected_loss': -expected_loss\n",
    "    }\n",
    "    datas.append(data)"
   ]
  },
  {
   "cell_type": "code",
   "execution_count": 470,
   "id": "7c286f4f",
   "metadata": {},
   "outputs": [],
   "source": [
    "df = pd.DataFrame(datas)"
   ]
  },
  {
   "cell_type": "code",
   "execution_count": 471,
   "id": "38f87eb3",
   "metadata": {},
   "outputs": [],
   "source": [
    "df.loc[:, 'incremental_gain'] = df.expected_loss.diff().fillna(0)\n",
    "df.loc[:, 'cumulative_gain'] = df.incremental_gain.cumsum()\n",
    "df.loc[:, 'incremental_cost'] = df.cost_of_coolers.diff().fillna(0)\n",
    "df.loc[:, 'cumulative_cost'] = df.incremental_cost.cumsum()\n",
    "df.loc[:, 'cumulative_gain_usd'] = df.cumulative_gain * price\n",
    "df.loc[:, 'payback'] = df.cumulative_cost / df.cumulative_gain_usd"
   ]
  },
  {
   "cell_type": "code",
   "execution_count": 472,
   "id": "26ccbe6e",
   "metadata": {},
   "outputs": [],
   "source": [
    "df.to_csv('cooler_capacity.csv')"
   ]
  },
  {
   "cell_type": "code",
   "execution_count": 473,
   "id": "b9ba1838",
   "metadata": {},
   "outputs": [
    {
     "data": {
      "text/plain": [
       "'/Users/spindicate/Documents/programming/drillbit/drillbit_dj'"
      ]
     },
     "execution_count": 473,
     "metadata": {},
     "output_type": "execute_result"
    }
   ],
   "source": [
    "os.getcwd()"
   ]
  },
  {
   "cell_type": "code",
   "execution_count": 475,
   "id": "691e240d",
   "metadata": {},
   "outputs": [
    {
     "data": {
      "text/html": [
       "<div>\n",
       "<style scoped>\n",
       "    .dataframe tbody tr th:only-of-type {\n",
       "        vertical-align: middle;\n",
       "    }\n",
       "\n",
       "    .dataframe tbody tr th {\n",
       "        vertical-align: top;\n",
       "    }\n",
       "\n",
       "    .dataframe thead th {\n",
       "        text-align: right;\n",
       "    }\n",
       "</style>\n",
       "<table border=\"1\" class=\"dataframe\">\n",
       "  <thead>\n",
       "    <tr style=\"text-align: right;\">\n",
       "      <th></th>\n",
       "      <th>design_dry_bulb</th>\n",
       "      <th>cost_of_coolers</th>\n",
       "      <th>expected_loss</th>\n",
       "      <th>incremental_gain</th>\n",
       "      <th>cumulative_gain</th>\n",
       "      <th>incremental_cost</th>\n",
       "      <th>cumulative_cost</th>\n",
       "      <th>cumulative_gain_usd</th>\n",
       "      <th>payback</th>\n",
       "    </tr>\n",
       "  </thead>\n",
       "  <tbody>\n",
       "    <tr>\n",
       "      <th>0</th>\n",
       "      <td>90.0</td>\n",
       "      <td>3750000.0</td>\n",
       "      <td>-59.201713</td>\n",
       "      <td>0.000000</td>\n",
       "      <td>0.000000</td>\n",
       "      <td>0.0</td>\n",
       "      <td>0.0</td>\n",
       "      <td>0.000000e+00</td>\n",
       "      <td>NaN</td>\n",
       "    </tr>\n",
       "    <tr>\n",
       "      <th>1</th>\n",
       "      <td>91.0</td>\n",
       "      <td>4000000.0</td>\n",
       "      <td>-55.945689</td>\n",
       "      <td>3.256024</td>\n",
       "      <td>3.256024</td>\n",
       "      <td>250000.0</td>\n",
       "      <td>250000.0</td>\n",
       "      <td>7.814457e+04</td>\n",
       "      <td>3.199199</td>\n",
       "    </tr>\n",
       "    <tr>\n",
       "      <th>2</th>\n",
       "      <td>92.0</td>\n",
       "      <td>4100000.0</td>\n",
       "      <td>-48.173348</td>\n",
       "      <td>7.772341</td>\n",
       "      <td>11.028365</td>\n",
       "      <td>100000.0</td>\n",
       "      <td>350000.0</td>\n",
       "      <td>2.646808e+05</td>\n",
       "      <td>1.322348</td>\n",
       "    </tr>\n",
       "    <tr>\n",
       "      <th>3</th>\n",
       "      <td>93.0</td>\n",
       "      <td>4200000.0</td>\n",
       "      <td>-41.493829</td>\n",
       "      <td>6.679519</td>\n",
       "      <td>17.707884</td>\n",
       "      <td>100000.0</td>\n",
       "      <td>450000.0</td>\n",
       "      <td>4.249892e+05</td>\n",
       "      <td>1.058850</td>\n",
       "    </tr>\n",
       "    <tr>\n",
       "      <th>4</th>\n",
       "      <td>94.0</td>\n",
       "      <td>4250000.0</td>\n",
       "      <td>-38.456240</td>\n",
       "      <td>3.037588</td>\n",
       "      <td>20.745472</td>\n",
       "      <td>50000.0</td>\n",
       "      <td>500000.0</td>\n",
       "      <td>4.978913e+05</td>\n",
       "      <td>1.004235</td>\n",
       "    </tr>\n",
       "    <tr>\n",
       "      <th>5</th>\n",
       "      <td>95.0</td>\n",
       "      <td>4425000.0</td>\n",
       "      <td>-32.808636</td>\n",
       "      <td>5.647604</td>\n",
       "      <td>26.393077</td>\n",
       "      <td>175000.0</td>\n",
       "      <td>675000.0</td>\n",
       "      <td>6.334338e+05</td>\n",
       "      <td>1.065620</td>\n",
       "    </tr>\n",
       "    <tr>\n",
       "      <th>6</th>\n",
       "      <td>96.0</td>\n",
       "      <td>4700000.0</td>\n",
       "      <td>-29.283495</td>\n",
       "      <td>3.525141</td>\n",
       "      <td>29.918218</td>\n",
       "      <td>275000.0</td>\n",
       "      <td>950000.0</td>\n",
       "      <td>7.180372e+05</td>\n",
       "      <td>1.323051</td>\n",
       "    </tr>\n",
       "    <tr>\n",
       "      <th>7</th>\n",
       "      <td>97.0</td>\n",
       "      <td>4825000.0</td>\n",
       "      <td>-25.400033</td>\n",
       "      <td>3.883463</td>\n",
       "      <td>33.801680</td>\n",
       "      <td>125000.0</td>\n",
       "      <td>1075000.0</td>\n",
       "      <td>8.112403e+05</td>\n",
       "      <td>1.325131</td>\n",
       "    </tr>\n",
       "    <tr>\n",
       "      <th>8</th>\n",
       "      <td>98.0</td>\n",
       "      <td>5050000.0</td>\n",
       "      <td>-21.063444</td>\n",
       "      <td>4.336588</td>\n",
       "      <td>38.138269</td>\n",
       "      <td>225000.0</td>\n",
       "      <td>1300000.0</td>\n",
       "      <td>9.153184e+05</td>\n",
       "      <td>1.420271</td>\n",
       "    </tr>\n",
       "    <tr>\n",
       "      <th>9</th>\n",
       "      <td>99.0</td>\n",
       "      <td>5575000.0</td>\n",
       "      <td>-17.145141</td>\n",
       "      <td>3.918303</td>\n",
       "      <td>42.056572</td>\n",
       "      <td>525000.0</td>\n",
       "      <td>1825000.0</td>\n",
       "      <td>1.009358e+06</td>\n",
       "      <td>1.808080</td>\n",
       "    </tr>\n",
       "    <tr>\n",
       "      <th>10</th>\n",
       "      <td>100.0</td>\n",
       "      <td>5900000.0</td>\n",
       "      <td>-14.708585</td>\n",
       "      <td>2.436556</td>\n",
       "      <td>44.493128</td>\n",
       "      <td>325000.0</td>\n",
       "      <td>2150000.0</td>\n",
       "      <td>1.067835e+06</td>\n",
       "      <td>2.013420</td>\n",
       "    </tr>\n",
       "    <tr>\n",
       "      <th>11</th>\n",
       "      <td>101.0</td>\n",
       "      <td>6700000.0</td>\n",
       "      <td>-12.756190</td>\n",
       "      <td>1.952395</td>\n",
       "      <td>46.445523</td>\n",
       "      <td>800000.0</td>\n",
       "      <td>2950000.0</td>\n",
       "      <td>1.114693e+06</td>\n",
       "      <td>2.646470</td>\n",
       "    </tr>\n",
       "    <tr>\n",
       "      <th>12</th>\n",
       "      <td>102.0</td>\n",
       "      <td>7450000.0</td>\n",
       "      <td>-10.404270</td>\n",
       "      <td>2.351920</td>\n",
       "      <td>48.797443</td>\n",
       "      <td>750000.0</td>\n",
       "      <td>3700000.0</td>\n",
       "      <td>1.171139e+06</td>\n",
       "      <td>3.159319</td>\n",
       "    </tr>\n",
       "  </tbody>\n",
       "</table>\n",
       "</div>"
      ],
      "text/plain": [
       "    design_dry_bulb  cost_of_coolers  expected_loss  incremental_gain  \\\n",
       "0              90.0        3750000.0     -59.201713          0.000000   \n",
       "1              91.0        4000000.0     -55.945689          3.256024   \n",
       "2              92.0        4100000.0     -48.173348          7.772341   \n",
       "3              93.0        4200000.0     -41.493829          6.679519   \n",
       "4              94.0        4250000.0     -38.456240          3.037588   \n",
       "5              95.0        4425000.0     -32.808636          5.647604   \n",
       "6              96.0        4700000.0     -29.283495          3.525141   \n",
       "7              97.0        4825000.0     -25.400033          3.883463   \n",
       "8              98.0        5050000.0     -21.063444          4.336588   \n",
       "9              99.0        5575000.0     -17.145141          3.918303   \n",
       "10            100.0        5900000.0     -14.708585          2.436556   \n",
       "11            101.0        6700000.0     -12.756190          1.952395   \n",
       "12            102.0        7450000.0     -10.404270          2.351920   \n",
       "\n",
       "    cumulative_gain  incremental_cost  cumulative_cost  cumulative_gain_usd  \\\n",
       "0          0.000000               0.0              0.0         0.000000e+00   \n",
       "1          3.256024          250000.0         250000.0         7.814457e+04   \n",
       "2         11.028365          100000.0         350000.0         2.646808e+05   \n",
       "3         17.707884          100000.0         450000.0         4.249892e+05   \n",
       "4         20.745472           50000.0         500000.0         4.978913e+05   \n",
       "5         26.393077          175000.0         675000.0         6.334338e+05   \n",
       "6         29.918218          275000.0         950000.0         7.180372e+05   \n",
       "7         33.801680          125000.0        1075000.0         8.112403e+05   \n",
       "8         38.138269          225000.0        1300000.0         9.153184e+05   \n",
       "9         42.056572          525000.0        1825000.0         1.009358e+06   \n",
       "10        44.493128          325000.0        2150000.0         1.067835e+06   \n",
       "11        46.445523          800000.0        2950000.0         1.114693e+06   \n",
       "12        48.797443          750000.0        3700000.0         1.171139e+06   \n",
       "\n",
       "     payback  \n",
       "0        NaN  \n",
       "1   3.199199  \n",
       "2   1.322348  \n",
       "3   1.058850  \n",
       "4   1.004235  \n",
       "5   1.065620  \n",
       "6   1.323051  \n",
       "7   1.325131  \n",
       "8   1.420271  \n",
       "9   1.808080  \n",
       "10  2.013420  \n",
       "11  2.646470  \n",
       "12  3.159319  "
      ]
     },
     "execution_count": 475,
     "metadata": {},
     "output_type": "execute_result"
    }
   ],
   "source": [
    "df"
   ]
  },
  {
   "cell_type": "code",
   "execution_count": null,
   "id": "ae191728",
   "metadata": {},
   "outputs": [],
   "source": []
  }
 ],
 "metadata": {
  "kernelspec": {
   "display_name": "Django Shell-Plus",
   "language": "python",
   "name": "django_extensions"
  },
  "language_info": {
   "codemirror_mode": {
    "name": "ipython",
    "version": 3
   },
   "file_extension": ".py",
   "mimetype": "text/x-python",
   "name": "python",
   "nbconvert_exporter": "python",
   "pygments_lexer": "ipython3",
   "version": "3.9.6"
  }
 },
 "nbformat": 4,
 "nbformat_minor": 5
}
