{
 "cells": [
  {
   "cell_type": "markdown",
   "id": "c5c78930",
   "metadata": {},
   "source": [
    "To DO\n",
    "\n",
    "+ ~~change landing page~~\n",
    "+ ~~DONE add loading options to simulation; must explore useAsyncQueue NOPE (AsyncQueue too different from AsyncState)~~\n",
    "+ ~~DONE add table; use icons for table segments; need to have column groups~~\n",
    "+ ~~DONE!   need to add charts~~\n",
    "\n",
    "+ ~~localstorage for chart values~~\n",
    "+ ~~add env statement~~\n",
    "+ ~~improve Chart aesthetics~~\n",
    "    ~~+ window or tiles or windows with tiles~~\n",
    "    ~~+ stack legend~~\n",
    "    ~~+ use theme-related colors~~\n",
    "    ~~+ pass appropriate x- and y-label values~~\n",
    "+ ~~standardize container sizes and alignments\n",
    "+ improve aesthetics of environment section\n",
    "    + ~~improve chart layout~~\n",
    "    + improve summary layout\n",
    "+ ~~improve Table aesthetics~~\n",
    "    + ~~add units for rows in Summary~~\n",
    "+ check all math\n",
    "+ ~~use Celery and Redis for async tasks to save monthly / quarterly / annual versions of statements~~\n",
    "+ add temperature impacts / need to feed in variable chip temp\n",
    "+ add current BTC environment modal\n",
    "+ improve infra product database\n",
    "+ improve infra section and remove errors\n",
    "+ need full statements and charts for each project\n",
    "+ need better atomicity of database transactions\n",
    "+ push live to google\n",
    "+ testing for drillbit\n",
    "+ testing for drillbit-vj\n",
    "+ testing for drillbit-dj\n",
    "+ updates to finstat\n",
    "\n",
    "Bugs / Questions / Clean-up\n",
    "+ why is block schedule wrong?\n",
    "+ number of miners???\n",
    "+ Why do rot and istat not overlap in terms of number of periods??????\n",
    "+ improve StatefulBtn functionality; how to use with useAsyncQueue????\n",
    "+ aggregation and code clean-up???"
   ]
  },
  {
   "cell_type": "code",
   "execution_count": 1,
   "id": "b093c977",
   "metadata": {
    "scrolled": true
   },
   "outputs": [],
   "source": [
    "%load_ext autoreload\n",
    "%autoreload 2"
   ]
  },
  {
   "cell_type": "code",
   "execution_count": 2,
   "id": "ba6c1142",
   "metadata": {},
   "outputs": [],
   "source": [
    "import os\n",
    "import django\n",
    "os.environ.setdefault('DJANGO_SETTINGS_MODULE', 'rest.settings')\n",
    "os.environ[\"DJANGO_ALLOW_ASYNC_UNSAFE\"] = \"true\"\n",
    "django.setup()"
   ]
  },
  {
   "cell_type": "code",
   "execution_count": 3,
   "id": "e888e330",
   "metadata": {},
   "outputs": [],
   "source": [
    "import numpy as np\n",
    "import pandas as pd"
   ]
  },
  {
   "cell_type": "code",
   "execution_count": 4,
   "id": "734a2612",
   "metadata": {},
   "outputs": [],
   "source": [
    "from drillbit import BitcoinEnvironmentUtility\n",
    "from drillbit.__new_objects import Rig as RigManager, Product as ProductManager, \\\n",
    "    Cooling as CoolingManager, Project as ProjectManager, \\\n",
    "    OverClock, RigOperator\n",
    "from drillbit.__new_units__ import AbstractBaseUnit, MagnitudeTable, Hashes, HashRate, Time, Power, Energy, Efficiency, EnergyPrice\n",
    "\n",
    "\n",
    "from environment.serializers import EnvironmentSerializer as EnviroSer, BlockScheduleSerializer as BSchedSer, \\\n",
    "    BitcoinPriceSerializer as BPSer, TransactionFeesSerializer as FeeSer, HashRateSerializer as HRSer\n",
    "from environment.models import Environment, BlockSchedule, BitcoinPrice, TransactionFees\n",
    "\n",
    "from products.models import Rig, Cooling, HeatRejection, Electrical, RejectionCurve\n",
    "from products.serializers import RigSerializer, CoolingSerializer, HeatRejectionSerializer, ElectricalSerializer\n",
    "\n",
    "from projects.models import RigForProject, InfraForProject, Project, Projects, \\\n",
    "    ProjectStatement, ProjectSimulation, ProjectStatementSummary\n",
    "from projects.serializers import RigForProjectSerializer, InfraForProjectSerializer, ProjectSerializer, ProjectsSerializer, \\\n",
    "    ProjectScalingSerializer, ProjectCostsSerializer, ProjectStatementSerializer, \\\n",
    "    ProjectStatementSummarySerializer\n",
    "\n",
    "from projects.tasks import create_statements_for_given_project, create_statement_for_given_frequency"
   ]
  },
  {
   "cell_type": "code",
   "execution_count": 5,
   "id": "8a03c5cc",
   "metadata": {},
   "outputs": [],
   "source": [
    "import numpy as np\n",
    "import pandas as pd\n",
    "import numpy_financial as npf\n",
    "\n",
    "import finstat as fs\n",
    "\n",
    "from drillbit.statements.funcs import total_energy, win_percentage, \\\n",
    "    expected_difficulty, hashes_to_hash_rate, win_percentage\n"
   ]
  },
  {
   "cell_type": "code",
   "execution_count": 6,
   "id": "b08a431c",
   "metadata": {},
   "outputs": [],
   "source": [
    "from drillbit.statements.statements import init_environment, ProjectTemplate, ROITemplate, \\\n",
    "    analysis"
   ]
  },
  {
   "cell_type": "code",
   "execution_count": 7,
   "id": "04674033",
   "metadata": {},
   "outputs": [],
   "source": [
    "btc = BitcoinEnvironmentUtility()\n",
    "environment = Environment.objects.latest('created_at')\n",
    "project = Project.objects.latest('created_at')\n",
    "frequency = 'M'"
   ]
  },
  {
   "cell_type": "code",
   "execution_count": 8,
   "id": "5da7511f",
   "metadata": {},
   "outputs": [],
   "source": [
    "projects = Projects.objects.latest('created_at').projects.all()"
   ]
  },
  {
   "cell_type": "code",
   "execution_count": 9,
   "id": "3aa3dbcd",
   "metadata": {},
   "outputs": [],
   "source": [
    "def custom_get_object(environment, project):\n",
    "    sim = ProjectSimulation.objects.get(environment=environment, project=project)\n",
    "    return ProjectStatementSummary.objects.get(sim=sim)\n"
   ]
  },
  {
   "cell_type": "code",
   "execution_count": 10,
   "id": "fe31ed30",
   "metadata": {},
   "outputs": [],
   "source": [
    "projects = Project.objects.filter(pk__in=projects)\n",
    "summs = []\n",
    "for project in projects:\n",
    "    stat = custom_get_object(environment.id, project)\n",
    "    ser = ProjectStatementSummarySerializer(stat)\n",
    "    summs.append(ser.data['summary'])\n",
    "\n",
    "df = pd.DataFrame(summs).T\n",
    "df.columns = [p.name for p in projects]"
   ]
  },
  {
   "cell_type": "code",
   "execution_count": 12,
   "id": "03f3e16b",
   "metadata": {},
   "outputs": [
    {
     "data": {
      "text/plain": [
       "[{'index': 'Capacity',\n",
       "  'Project TEST #5': 40000000.0,\n",
       "  'Project TEST #1': 40000000.0},\n",
       " {'index': 'Compute Power',\n",
       "  'Project TEST #5': 37905709.54750059,\n",
       "  'Project TEST #1': 37905709.54750059},\n",
       " {'index': 'Infra Power',\n",
       "  'Project TEST #5': 2094290.452499412,\n",
       "  'Project TEST #1': 2094290.452499412},\n",
       " {'index': 'Number of Rigs',\n",
       "  'Project TEST #5': 11448.417259891448,\n",
       "  'Project TEST #1': 9038.619266170033},\n",
       " {'index': 'Hash Rate',\n",
       "  'Project TEST #5': 1.6027784163848028e+18,\n",
       "  'Project TEST #1': 9.038619266170034e+17},\n",
       " {'index': 'Hash Rate per Rig',\n",
       "  'Project TEST #5': 151108190137765.8,\n",
       "  'Project TEST #1': 127154245861491.42},\n",
       " {'index': 'Total Hashes',\n",
       "  'Project TEST #5': 1.3286013020806331e+26,\n",
       "  'Project TEST #1': 8.826614910097902e+25},\n",
       " {'index': 'Energy Consumption',\n",
       "  'Project TEST #5': 2792727272727273.0,\n",
       "  'Project TEST #1': 2820196721311475.0},\n",
       " {'index': 'Efficiency',\n",
       "  'Project TEST #5': 2.1020055214109535e-11,\n",
       "  'Project TEST #1': 3.19510565492677e-11},\n",
       " {'index': 'Energy Expense',\n",
       "  'Project TEST #5': 38787878.78787878,\n",
       "  'Project TEST #1': 39169398.90710381},\n",
       " {'index': 'Total Expenses',\n",
       "  'Project TEST #5': 38787878.78787878,\n",
       "  'Project TEST #1': 39169398.90710381},\n",
       " {'index': 'Rig Costs',\n",
       "  'Project TEST #5': 148336913.4680683,\n",
       "  'Project TEST #1': 72498674.74775717},\n",
       " {'index': 'HashRaq Max Cost',\n",
       "  'Project TEST #5': 16099336.771722348,\n",
       "  'Project TEST #1': 12710558.343051609},\n",
       " {'index': 'HTS Dry Coolers Cost',\n",
       "  'Project TEST #5': 743315.4559631099,\n",
       "  'Project TEST #1': 743315.4559631099},\n",
       " {'index': 'Total Infra Costs',\n",
       "  'Project TEST #5': 16842652.22768546,\n",
       "  'Project TEST #1': 13453873.79901472},\n",
       " {'index': 'Capital Costs',\n",
       "  'Project TEST #5': 165179565.69575375,\n",
       "  'Project TEST #1': 85952548.54677188},\n",
       " {'index': 'Total Cost',\n",
       "  'Project TEST #5': 203967444.48363253,\n",
       "  'Project TEST #1': 125121947.45387569},\n",
       " {'index': 'Rigs Hash Price',\n",
       "  'Project TEST #5': 1.1164892976980215e-18,\n",
       "  'Project TEST #1': 8.21364424370849e-19},\n",
       " {'index': 'Hashraq   Max Hash Price',\n",
       "  'Project TEST #5': 1.2117507898351644e-19,\n",
       "  'Project TEST #1': 1.4400263829920078e-19},\n",
       " {'index': 'Hts   Dry   Coolers Hash Price',\n",
       "  'Project TEST #5': 5.5947217182389746e-21,\n",
       "  'Project TEST #1': 8.421296992494094e-21},\n",
       " {'index': 'Infra Hash Price',\n",
       "  'Project TEST #5': 1.267698007017554e-19,\n",
       "  'Project TEST #1': 1.524239352916949e-19},\n",
       " {'index': 'Build Hash Price',\n",
       "  'Project TEST #5': -0.0,\n",
       "  'Project TEST #1': -0.0},\n",
       " {'index': 'Cash Hash Price',\n",
       "  'Project TEST #5': 1.243259098399777e-18,\n",
       "  'Project TEST #1': 9.737883596625438e-19},\n",
       " {'index': 'BTC, held',\n",
       "  'Project TEST #5': 4831.500125058635,\n",
       "  'Project TEST #1': 2663.134290386894},\n",
       " {'index': 'Net Cash Flow, held',\n",
       "  'Project TEST #5': 133230329.9301036,\n",
       "  'Project TEST #1': 73436872.80813476},\n",
       " {'index': 'Net Gain, held',\n",
       "  'Project TEST #5': -31949235.7656502,\n",
       "  'Project TEST #1': -12515675.7386371},\n",
       " {'index': 'ROI, held',\n",
       "  'Project TEST #5': -0.193421236041375,\n",
       "  'Project TEST #1': -0.145611455974765},\n",
       " {'index': 'IRR 3-year, held',\n",
       "  'Project TEST #5': -0.14682907829016023,\n",
       "  'Project TEST #1': -0.11096284879533136},\n",
       " {'index': 'IRR 5-year, held',\n",
       "  'Project TEST #5': -0.14682907829016023,\n",
       "  'Project TEST #1': -0.11096284879533136},\n",
       " {'index': 'IRR terminal, held',\n",
       "  'Project TEST #5': -0.14682907829016023,\n",
       "  'Project TEST #1': -0.11096284879533136},\n",
       " {'index': 'Breakeven',\n",
       "  'Project TEST #5': '2025-07-31',\n",
       "  'Project TEST #1': '2025-07-31'}]"
      ]
     },
     "execution_count": 12,
     "metadata": {},
     "output_type": "execute_result"
    }
   ],
   "source": [
    "df.reset_index().to_dict(orient='records')"
   ]
  },
  {
   "cell_type": "code",
   "execution_count": null,
   "id": "10dfc510",
   "metadata": {},
   "outputs": [],
   "source": []
  }
 ],
 "metadata": {
  "kernelspec": {
   "display_name": "Django Shell-Plus",
   "language": "python",
   "name": "django_extensions"
  },
  "language_info": {
   "codemirror_mode": {
    "name": "ipython",
    "version": 3
   },
   "file_extension": ".py",
   "mimetype": "text/x-python",
   "name": "python",
   "nbconvert_exporter": "python",
   "pygments_lexer": "ipython3",
   "version": "3.9.6"
  }
 },
 "nbformat": 4,
 "nbformat_minor": 5
}
