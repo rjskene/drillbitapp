{
 "cells": [
  {
   "cell_type": "markdown",
   "id": "ec6db37f",
   "metadata": {},
   "source": [
    "To DO\n",
    "\n",
    "+ ~~change landing page~~\n",
    "+ ~~DONE add loading options to simulation; must explore useAsyncQueue NOPE (AsyncQueue too different from AsyncState)~~\n",
    "+ ~~DONE add table; use icons for table segments; need to have column groups~~\n",
    "+ ~~DONE!   need to add charts~~\n",
    "\n",
    "+ ~~localstorage for chart values~~\n",
    "+ ~~add env statement~~\n",
    "+ ~~improve Chart aesthetics~~\n",
    "    ~~+ window or tiles or windows with tiles~~\n",
    "    ~~+ stack legend~~\n",
    "    ~~+ use theme-related colors~~\n",
    "    ~~+ pass appropriate x- and y-label values~~\n",
    "+ ~~standardize container sizes and alignments\n",
    "+ improve aesthetics of environment section\n",
    "    + ~~improve chart layout~~\n",
    "    + improve summary layout\n",
    "+ ~~improve Table aesthetics~~\n",
    "    + ~~add units for rows in Summary~~\n",
    "+ check all math\n",
    "+ use Celery and Redis for async tasks to save monthly / quarterly / annual versions of statements\n",
    "+ add temperature impacts / need to feed in variable chip temp\n",
    "+ add current BTC environment modal\n",
    "+ improve infra product database\n",
    "+ improve infra section and remove errors\n",
    "+ need full statements and charts for each project\n",
    "+ push live to google\n",
    "+ testing for drillbit\n",
    "+ testing for drillbit-vj\n",
    "+ testing for drillbit-dj\n",
    "+ updates to finstat\n",
    "\n",
    "Bugs / Questions / Clean-up\n",
    "+ why is block schedule wrong?\n",
    "+ number of miners???\n",
    "+ Why do rot and istat not overlap in terms of number of periods??????\n",
    "+ improve StatefulBtn functionality; how to use with useAsyncQueue????\n",
    "+ aggregation and code clean-up???\n",
    "\n"
   ]
  },
  {
   "cell_type": "code",
   "execution_count": 41,
   "id": "b093c977",
   "metadata": {
    "scrolled": true
   },
   "outputs": [
    {
     "name": "stdout",
     "output_type": "stream",
     "text": [
      "The autoreload extension is already loaded. To reload it, use:\n",
      "  %reload_ext autoreload\n"
     ]
    }
   ],
   "source": [
    "%load_ext autoreload\n",
    "%autoreload 2"
   ]
  },
  {
   "cell_type": "code",
   "execution_count": 42,
   "id": "ba6c1142",
   "metadata": {},
   "outputs": [],
   "source": [
    "import os\n",
    "import django\n",
    "os.environ.setdefault('DJANGO_SETTINGS_MODULE', 'rest.settings')\n",
    "os.environ[\"DJANGO_ALLOW_ASYNC_UNSAFE\"] = \"true\"\n",
    "django.setup()"
   ]
  },
  {
   "cell_type": "code",
   "execution_count": 43,
   "id": "e888e330",
   "metadata": {},
   "outputs": [],
   "source": [
    "import numpy as np\n",
    "import pandas as pd"
   ]
  },
  {
   "cell_type": "code",
   "execution_count": 44,
   "id": "734a2612",
   "metadata": {},
   "outputs": [],
   "source": [
    "from drillbit import BitcoinEnvironmentUtility\n",
    "from drillbit.__new_objects import Rig as RigManager, Product as ProductManager, \\\n",
    "    Cooling as CoolingManager, Project as ProjectManager, \\\n",
    "    OverClock, RigOperator\n",
    "from drillbit.__new_units__ import AbstractBaseUnit, MagnitudeTable, Hashes, HashRate, Time, Power, Energy, Efficiency, EnergyPrice\n",
    "\n",
    "\n",
    "from environment.serializers import EnvironmentSerializer as EnviroSer, BlockScheduleSerializer as BSchedSer, \\\n",
    "    BitcoinPriceSerializer as BPSer, TransactionFeesSerializer as FeeSer, HashRateSerializer as HRSer\n",
    "from environment.models import Environment, BlockSchedule, BitcoinPrice, TransactionFees\n",
    "\n",
    "from products.models import Rig, Cooling, HeatRejection, Electrical, RejectionCurve\n",
    "from products.serializers import RigSerializer, CoolingSerializer, HeatRejectionSerializer, ElectricalSerializer\n",
    "\n",
    "from projects.models import RigForProject, InfraForProject, Project, Projects, ProjectStatement, ProjectSimulation\n",
    "from projects.serializers import RigForProjectSerializer, InfraForProjectSerializer, ProjectSerializer, ProjectsSerializer, \\\n",
    "    ProjectScalingSerializer, ProjectCostsSerializer, ProjectStatementSerializer"
   ]
  },
  {
   "cell_type": "code",
   "execution_count": 45,
   "id": "8a03c5cc",
   "metadata": {},
   "outputs": [],
   "source": [
    "import numpy as np\n",
    "import pandas as pd\n",
    "import numpy_financial as npf\n",
    "\n",
    "import finstat as fs\n",
    "\n",
    "from drillbit.statements.funcs import total_energy, win_percentage, \\\n",
    "    expected_difficulty, hashes_to_hash_rate, win_percentage\n"
   ]
  },
  {
   "cell_type": "code",
   "execution_count": 46,
   "id": "b08a431c",
   "metadata": {},
   "outputs": [],
   "source": [
    "from drillbit.statements.statements import init_environment, ProjectTemplate, ROITemplate, \\\n",
    "    analysis"
   ]
  },
  {
   "cell_type": "code",
   "execution_count": 47,
   "id": "04674033",
   "metadata": {},
   "outputs": [],
   "source": [
    "btc = BitcoinEnvironmentUtility()\n",
    "environment = Environment.objects.latest('created_at')\n",
    "project = Project.objects.latest('created_at')\n",
    "frequency = 'M'"
   ]
  },
  {
   "cell_type": "code",
   "execution_count": 20,
   "id": "5da7511f",
   "metadata": {},
   "outputs": [],
   "source": [
    "projects = Projects.objects.latest('created_at').projects.all()"
   ]
  },
  {
   "cell_type": "code",
   "execution_count": 49,
   "id": "49b8f045",
   "metadata": {},
   "outputs": [
    {
     "data": {
      "text/plain": [
       "(2, {'projects.ProjectSimulation': 2})"
      ]
     },
     "execution_count": 49,
     "metadata": {},
     "output_type": "execute_result"
    }
   ],
   "source": [
    "ProjectStatement.objects.all().delete()\n",
    "ProjectSimulation.objects.all().delete()"
   ]
  },
  {
   "cell_type": "code",
   "execution_count": null,
   "id": "db4591de",
   "metadata": {},
   "outputs": [],
   "source": []
  }
 ],
 "metadata": {
  "kernelspec": {
   "display_name": "Django Shell-Plus",
   "language": "python",
   "name": "django_extensions"
  },
  "language_info": {
   "codemirror_mode": {
    "name": "ipython",
    "version": 3
   },
   "file_extension": ".py",
   "mimetype": "text/x-python",
   "name": "python",
   "nbconvert_exporter": "python",
   "pygments_lexer": "ipython3",
   "version": "3.9.6"
  }
 },
 "nbformat": 4,
 "nbformat_minor": 5
}
