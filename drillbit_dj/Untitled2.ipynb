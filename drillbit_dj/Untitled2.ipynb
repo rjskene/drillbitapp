{
 "cells": [
  {
   "cell_type": "code",
   "execution_count": 1,
   "id": "37529326",
   "metadata": {},
   "outputs": [],
   "source": [
    "class TableMaker {\n",
    "  /* \n",
    "  \n",
    "  */\n",
    "  constructor({columns, otherHeaders, periodParams}) {\n",
    "    this.requiredAttrs = { \n",
    "      'bodyClass': null, \n",
    "      'component': false,\n",
    "      'bodyFunc': false,\n",
    "      'editor': false, \n",
    "      'filter': false,\n",
    "      'frozen': false,\n",
    "      'hidden': false,\n",
    "      'spanWrap': false,\n",
    "    }\n",
    "    this.columns = []\n",
    "    console.log(columns)\n",
    "    this.pushBaseColumns(columns)\n",
    "    this.attachRequiredAttrs()\n",
    "\n",
    "    // if (statColumns !== null) {\n",
    "    //   const periodCols = statColumns.slice(this.columns.length)   \n",
    "    //   this.periodParams = periodParams\n",
    "    //   if (periodCols !== null)\n",
    "    //     this.pushPeriodColumns(periodCols)\n",
    "    //     this.attachPeriodAttrs(periodCols)\n",
    "    // }\n",
    "  }\n",
    "  pushBaseColumns (columns) {\n",
    "    columns.forEach(col => {\n",
    "        this.columns.push(col)\n",
    "      }\n",
    "    )\n",
    "  }\n",
    "  pushPeriodColumns (periodCols){\n",
    "    periodCols.forEach(header => {\n",
    "      this.columns.push({\n",
    "        field: header,\n",
    "        header: header,\n",
    "        sortable: true,\n",
    "      })\n",
    "    })\n",
    "  }\n",
    "  attachRequiredAttrs() { \n",
    "    this.columns.forEach((field) => {\n",
    "      Object.entries(this.requiredAttrs).forEach(entries => {\n",
    "        var [k, v] = entries\n",
    "        if (!(k in field)) {\n",
    "          field[k] = v\n",
    "        }\n",
    "      })\n",
    "    })\n",
    "  }\n",
    "  periodAttrs () {\n",
    "    var base = {\n",
    "      bodyFunc: (data, field) => format.currency(data[field]),\n",
    "      sortable: false\n",
    "    }    \n",
    "    for (const [key, value] of Object.entries(this.periodParams)) {\n",
    "      base[key] = value\n",
    "    }\n",
    "    return base\n",
    "  }  \n",
    "  attachPeriodAttrs(periodCols) {\n",
    "    this.columns.forEach((field) => {\n",
    "      if (periodCols.includes(field.field)) {\n",
    "        Object.entries(this.periodAttrs(periodCols)).forEach(entries => {\n",
    "          var [k, v] = entries\n",
    "          if (!(k in field)) {\n",
    "            field[k] = v\n",
    "          }\n",
    "        })\n",
    "      }\n",
    "    })\n",
    "  }\n",
    "}"
   ]
  },
  {
   "cell_type": "code",
   "execution_count": 2,
   "id": "f0d645c7",
   "metadata": {},
   "outputs": [
    {
     "data": {
      "text/plain": [
       "{\n",
       "  '0': 'index',\n",
       "  '1': '2023-04-30',\n",
       "  '2': '2023-05-31',\n",
       "  '3': '2023-06-30',\n",
       "  '4': '2023-07-31',\n",
       "  '5': '2023-08-31',\n",
       "  '6': '2023-09-30',\n",
       "  '7': '2023-10-31',\n",
       "  '8': '2023-11-30',\n",
       "  '9': '2023-12-31'\n",
       "}"
      ]
     },
     "execution_count": 2,
     "metadata": {},
     "output_type": "execute_result"
    }
   ],
   "source": [
    "headers = {\n",
    "    0: \"index\",\n",
    "    1: \"2023-04-30\",\n",
    "    2: \"2023-05-31\",\n",
    "    3: \"2023-06-30\",\n",
    "    4: \"2023-07-31\",\n",
    "    5: \"2023-08-31\",\n",
    "    6: \"2023-09-30\",\n",
    "    7: \"2023-10-31\",\n",
    "    8: \"2023-11-30\",\n",
    "    9: \"2023-12-31\"\n",
    "}"
   ]
  },
  {
   "cell_type": "code",
   "execution_count": 3,
   "id": "0092da63",
   "metadata": {},
   "outputs": [],
   "source": [
    "var potentialCols\n",
    "var table"
   ]
  },
  {
   "cell_type": "code",
   "execution_count": 4,
   "id": "00269433",
   "metadata": {},
   "outputs": [
    {
     "name": "stdout",
     "output_type": "stream",
     "text": [
      "undefined\n"
     ]
    },
    {
     "ename": "TypeError",
     "evalue": "Cannot read properties of undefined (reading 'forEach')",
     "output_type": "error",
     "traceback": [
      "evalmachine.<anonymous>:30",
      "    columns.forEach(col => {",
      "            ^",
      "",
      "TypeError: Cannot read properties of undefined (reading 'forEach')",
      "    at TableMaker.pushBaseColumns (evalmachine.<anonymous>:30:13)",
      "    at new TableMaker (evalmachine.<anonymous>:18:10)",
      "    at evalmachine.<anonymous>:11:9",
      "    at Script.runInThisContext (node:vm:129:12)",
      "    at Object.runInThisContext (node:vm:313:38)",
      "    at run ([eval]:1020:15)",
      "    at onRunRequest ([eval]:864:18)",
      "    at onMessage ([eval]:828:13)",
      "    at process.emit (node:events:513:28)",
      "    at emit (node:internal/child_process:937:14)"
     ]
    }
   ],
   "source": [
    "potentialCols = [\n",
    "  {\n",
    "    field: 'index',\n",
    "    header: 'Item',\n",
    "    frozen: true,\n",
    "    sortable: true,\n",
    "    bodyFunc: (data, field) => data[field],\n",
    "    headerClass: 'table-header-left min-col-width-2dot5',\n",
    "    bodyClass: 'table-body-left min-col-width-2dot5',\n",
    "  }]\n",
    "table = new TableMaker(potentialCols, Object.values(headers))"
   ]
  },
  {
   "cell_type": "code",
   "execution_count": 5,
   "id": "d68e41f8",
   "metadata": {},
   "outputs": [
    {
     "ename": "TypeError",
     "evalue": "Cannot read properties of undefined (reading 'columns')",
     "output_type": "error",
     "traceback": [
      "evalmachine.<anonymous>:1",
      "table.columns",
      "      ^",
      "",
      "TypeError: Cannot read properties of undefined (reading 'columns')",
      "    at evalmachine.<anonymous>:1:7",
      "    at Script.runInThisContext (node:vm:129:12)",
      "    at Object.runInThisContext (node:vm:313:38)",
      "    at run ([eval]:1020:15)",
      "    at onRunRequest ([eval]:864:18)",
      "    at onMessage ([eval]:828:13)",
      "    at process.emit (node:events:513:28)",
      "    at emit (node:internal/child_process:937:14)",
      "    at process.processTicksAndRejections (node:internal/process/task_queues:83:21)"
     ]
    }
   ],
   "source": [
    "table.columns"
   ]
  },
  {
   "cell_type": "code",
   "execution_count": null,
   "id": "0466dd18",
   "metadata": {},
   "outputs": [],
   "source": []
  }
 ],
 "metadata": {
  "kernelspec": {
   "display_name": "JavaScript (Node.js)",
   "language": "javascript",
   "name": "javascript"
  },
  "language_info": {
   "file_extension": ".js",
   "mimetype": "application/javascript",
   "name": "javascript",
   "version": "18.9.1"
  }
 },
 "nbformat": 4,
 "nbformat_minor": 5
}
